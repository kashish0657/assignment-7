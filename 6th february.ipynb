{
 "cells": [
  {
   "cell_type": "markdown",
   "id": "48693743-a806-45e4-ba82-a0338de62030",
   "metadata": {},
   "source": [
    "6th february"
   ]
  },
  {
   "cell_type": "code",
   "execution_count": null,
   "id": "79fb81c7-b0be-40d6-85a7-10cb74023ebb",
   "metadata": {},
   "outputs": [],
   "source": [
    "1:ans:-\n",
    "\n",
    "list1=[1,2,3,4,44,55,66,True],False,(34,56,78,89,34),(1,2,3,3,2,1),{1:34,\"key2\":[55,67,78,89],4:(45,22,61,34)},\n",
    "        [56,'data science','machine language']\n",
    "    \n",
    "list_num=[]\n",
    "\n",
    "def numbers(a):\n",
    "    \n",
    "    for i in a:\n",
    "        if type(i)==int:\n",
    "            list_num.append(i)\n",
    "        elif type(i)==list or type(i)==tuple or type(i)==set:\n",
    "            for j in i:\n",
    "                if type(j)==int:\n",
    "                    list_num.append(j)\n",
    "        elif type(i)==dict:\n",
    "            for j in i.values():\n",
    "                if type(j)==int:\n",
    "                    list_num.append(j)\n",
    "                elif type(i)==list or type(i)==tuple or type(j)==set:\n",
    "                    for k in j:\n",
    "                        if type(k)==int:\n",
    "                            list_num.append(k)\n",
    "                            \n",
    "            \n",
    "numbers(list1) # function cell\n",
    "\n",
    "product=1\n",
    "for i in list_num:\n",
    "    product= product*i\n",
    "    \n",
    "    \n",
    "print(product)\n"
   ]
  },
  {
   "cell_type": "code",
   "execution_count": null,
   "id": "9f5d92a3-5a03-4530-b565-7d8becbaafd1",
   "metadata": {},
   "outputs": [],
   "source": [
    "2:ans:-\n",
    "\n",
    "input_sen=\"i want to be a data scientist.\" #input message\n",
    "\n",
    "message=input_sen.lower()                  # convert into lowercase\n",
    "\n",
    "encrypt=message\n",
    "\n",
    "\n",
    "for i in message:\n",
    "    \n",
    "    if i == 'a':\n",
    "        encrypt=encrypt.replace('a','z')\n",
    "    elif i == 'b':\n",
    "        encrypt=encrypt.replace('b','y')\n",
    "    elif i == 'c':\n",
    "        encrypt=encrypt.replace('c','x')\n",
    "    elif i == ' ':\n",
    "        encrypt=encrypt.replace(' ','')"
   ]
  }
 ],
 "metadata": {
  "kernelspec": {
   "display_name": "Python 3 (ipykernel)",
   "language": "python",
   "name": "python3"
  },
  "language_info": {
   "codemirror_mode": {
    "name": "ipython",
    "version": 3
   },
   "file_extension": ".py",
   "mimetype": "text/x-python",
   "name": "python",
   "nbconvert_exporter": "python",
   "pygments_lexer": "ipython3",
   "version": "3.10.8"
  }
 },
 "nbformat": 4,
 "nbformat_minor": 5
}
